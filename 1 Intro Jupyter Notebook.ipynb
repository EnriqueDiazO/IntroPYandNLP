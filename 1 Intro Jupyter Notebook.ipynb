{
 "cells": [
  {
   "cell_type": "markdown",
   "id": "f1c8f731",
   "metadata": {},
   "source": [
    "# ANACONDA Y JUPITER Notebook "
   ]
  },
  {
   "cell_type": "markdown",
   "id": "54bdd011",
   "metadata": {},
   "source": [
    "## Anaconda\n",
    "Anaconda es una distribución de Python que incluye muchas de las bibliotecas y herramientas más comunes utilizadas en ciencia de datos, aprendizaje automático y análisis estadístico. Además de Python, Anaconda proporciona un gestor de paquetes llamado conda que facilita la instalación y administración de paquetes.\n"
   ]
  },
  {
   "cell_type": "markdown",
   "id": "a5d4b486",
   "metadata": {},
   "source": [
    "## Jupyter Notebook\n",
    "Jupyter Notebook es una aplicación web que permite crear y compartir documentos interactivos que contienen código, visualizaciones y texto explicativo. Es muy utilizado en el campo de la ciencia de datos y la investigación para desarrollar y presentar análisis de datos de manera interactiva.\n",
    "\n"
   ]
  },
  {
   "cell_type": "markdown",
   "id": "78eaa807",
   "metadata": {},
   "source": [
    "# Tipos de Encabezado\n",
    "\n",
    "# Encabezado 1\n",
    "## Encabezado 2\n",
    "### Encabezado 3\n",
    "#### Encabezado 4\n"
   ]
  },
  {
   "cell_type": "markdown",
   "id": "cb86bf81",
   "metadata": {},
   "source": [
    "# Tipos de Texto \n",
    "\n",
    "**Texto en negrita**\n",
    "\n",
    "*Texto en cursiva*\n"
   ]
  },
  {
   "cell_type": "markdown",
   "id": "2e98b7c2",
   "metadata": {},
   "source": [
    "# Insertar imágenes y Texto \n",
    "\n",
    "[Enlace para el pato](https://es.wikipedia.org/wiki/Anas_platyrhynchos_domesticus#/media/Archivo:Anas_platyrhynchos_qtl1.jpg)\n",
    "\n",
    "<img src=https://upload.wikimedia.org/wikipedia/commons/thumb/f/ff/Anas_platyrhynchos_qtl1.jpg/1024px-Anas_platyrhynchos_qtl1.jpg>\n",
    "\n"
   ]
  },
  {
   "cell_type": "markdown",
   "id": "a081a8c7",
   "metadata": {},
   "source": [
    "# Ejemplo de una Cita \n",
    "> Esto es una cita. Es decir un texto con sangría copiado de algún otro medio.\n"
   ]
  },
  {
   "cell_type": "markdown",
   "id": "4989a1b5",
   "metadata": {},
   "source": [
    "# Ejemplo de código en línea\n",
    "`código en línea`\n",
    "\n",
    "```python\n",
    "# Bloque de código en Python\n",
    "print(\"Hola, mundo!\")\n"
   ]
  },
  {
   "cell_type": "markdown",
   "id": "6ed1826b",
   "metadata": {},
   "source": [
    "# Ejemplo de Tablas\n",
    "| Nombre  | Edad |\n",
    "|---------|------|\n",
    "| Ana     | 25   |\n",
    "| Carlos  | 30   |\n"
   ]
  },
  {
   "cell_type": "markdown",
   "id": "e100d7b0",
   "metadata": {},
   "source": [
    "## Algunas Funciones de Python\n",
    "- `print()`: Imprime un mensaje en la consola.\n",
    "- `len()`: Devuelve la longitud de una lista, cadena u otro objeto iterable.\n",
    "- `type()`: Devuelve el tipo de un objeto.\n",
    "- `range()`: Crea una secuencia de números.\n"
   ]
  }
 ],
 "metadata": {
  "kernelspec": {
   "display_name": "Python 3 (ipykernel)",
   "language": "python",
   "name": "python3"
  },
  "language_info": {
   "codemirror_mode": {
    "name": "ipython",
    "version": 3
   },
   "file_extension": ".py",
   "mimetype": "text/x-python",
   "name": "python",
   "nbconvert_exporter": "python",
   "pygments_lexer": "ipython3",
   "version": "3.8.13"
  }
 },
 "nbformat": 4,
 "nbformat_minor": 5
}
